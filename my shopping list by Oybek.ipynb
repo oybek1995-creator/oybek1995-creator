{
 "cells": [
  {
   "cell_type": "code",
   "execution_count": 1,
   "metadata": {},
   "outputs": [
    {
     "name": "stdout",
     "output_type": "stream",
     "text": [
      "i will do the following shopping list:\n",
      "\t* vegetables \n",
      "\t\tcucumber\n",
      "\t\ttomato\n",
      "\t* my primary needs \n",
      "\t\tbread\n",
      "\t\tsunflower oil\n",
      "\t* my secondary needs \n",
      "\t\tbutter\n",
      "\t\tmeat\n",
      "\t\trice\n",
      "amount of items in shopping list:\n",
      "\n",
      "2kg cucumber, \n",
      "3kg tomato, \n",
      "2 loafs of bread, \n",
      "one butter, \n",
      "1kg meat, \n",
      "1kg rice, \n",
      "1 litre of sunflower oil.\n",
      "expected prices list:\n",
      "price1: 2kg cucumber = 3000 soum, price2: 3kg tomato =7500 soum,price3: 2 loafs of bread = 500 soum,price4: one butter= 400 soum,price5: 1kg meat = 700 soum,price6: 1kg rice= 700 soum,price7: 1 litre of sunflower oil = 1000 soum\n"
     ]
    }
   ],
   "source": [
    "my_shopping_list = '''i will do the following shopping list:\n",
    "\\t* vegetables \\n\\t\\tcucumber\\n\\t\\ttomato\n",
    "\\t* my primary needs \\n\\t\\tbread\\n\\t\\tsunflower oil\n",
    "\\t* my secondary needs \\n\\t\\tbutter\\n\\t\\tmeat\\n\\t\\trice'''\n",
    "print(my_shopping_list)\n",
    "\n",
    "print('amount of items in shopping list:')\n",
    "my_shopping_list = \"\\n{}, \\n{}, \\n{}, \\n{}, \\n{}, \\n{}, \\n{}\"\n",
    "print(my_shopping_list.format( '2kg cucumber', '3kg tomato', '2 loafs of bread', 'one butter', '1kg meat', '1kg rice', '1 litre of sunflower oil.'))\n",
    "\n",
    "print('expected prices list:')\n",
    "\n",
    "def print_seven(*expected_prices):\n",
    "    price1, price2, price3, price4, price5, price6, price7 = expected_prices\n",
    "    print(f\"price1: {price1}, price2: {price2},price3: {price3},price4: {price4},price5: {price5},price6: {price6},price7: {price7}\")\n",
    "    \n",
    "print_seven(\"2kg cucumber = 3000 soum\",\"3kg tomato =7500 soum\",\"2 loafs of bread = 500 soum\",\"one butter= 400 soum\",\"1kg meat = 700 soum\",\"1kg rice= 700 soum\",\"1 litre of sunflower oil = 1000 soum\" )"
   ]
  },
  {
   "cell_type": "code",
   "execution_count": 2,
   "metadata": {},
   "outputs": [
    {
     "name": "stdout",
     "output_type": "stream",
     "text": [
      "you must not forget to purchase the following healthy ingredients: \n",
      "cucumber\n",
      "tomato.\n"
     ]
    }
   ],
   "source": [
    "vegetables_from_this_list = \"\\ncucumber\\ntomato\"\n",
    "print(f\"you must not forget to purchase the following healthy ingredients: {vegetables_from_this_list}.\")"
   ]
  },
  {
   "cell_type": "code",
   "execution_count": 4,
   "metadata": {},
   "outputs": [
    {
     "name": "stdout",
     "output_type": "stream",
     "text": [
      " expected list of goods :\n",
      "two_kg_cucumber = 3000 \n",
      "three_kg_tomato =7500 \n",
      "two_loafs_of_bread = 500 \n",
      "one_butter= 400 \n",
      "one_kg_meat = 700 \n",
      "one_kg_rice= 700 \n",
      "one_litre_of_sunflower_oil = 1000 \n"
     ]
    }
   ],
   "source": [
    "print(''' expected list of goods :\n",
    "two_kg_cucumber = 3000 \n",
    "three_kg_tomato =7500 \n",
    "two_loafs_of_bread = 500 \n",
    "one_butter= 400 \n",
    "one_kg_meat = 700 \n",
    "one_kg_rice= 700 \n",
    "one_litre_of_sunflower_oil = 1000 ''')"
   ]
  },
  {
   "cell_type": "code",
   "execution_count": null,
   "metadata": {},
   "outputs": [],
   "source": [
    "actual_price_list = input(\"input the actual prices of goods in the market if you see any change in original list above\")\n",
    "\n",
    "print(actual_price_list)"
   ]
  },
  {
   "cell_type": "code",
   "execution_count": null,
   "metadata": {},
   "outputs": [],
   "source": []
  }
 ],
 "metadata": {
  "kernelspec": {
   "display_name": "Python 3",
   "language": "python",
   "name": "python3"
  },
  "language_info": {
   "codemirror_mode": {
    "name": "ipython",
    "version": 3
   },
   "file_extension": ".py",
   "mimetype": "text/x-python",
   "name": "python",
   "nbconvert_exporter": "python",
   "pygments_lexer": "ipython3",
   "version": "3.8.5"
  }
 },
 "nbformat": 4,
 "nbformat_minor": 4
}
